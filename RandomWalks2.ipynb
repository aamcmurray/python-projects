{
 "cells": [
  {
   "cell_type": "code",
   "execution_count": 73,
   "metadata": {},
   "outputs": [],
   "source": [
    "import random\n",
    "import matplotlib.pyplot as plt\n",
    "import numpy as np"
   ]
  },
  {
   "cell_type": "code",
   "execution_count": 95,
   "metadata": {},
   "outputs": [],
   "source": [
    "def normalised_steps():\n",
    "    dx = 2*(random.random()-0.5)\n",
    "    dy = 2*(random.random()-0.5)\n",
    "    L = np.sqrt(dx**2+dy**2)\n",
    "    dx = dx/L\n",
    "    dy = dy/L\n",
    "    return dx, dy\n",
    "\n",
    "def walk(n):\n",
    "    x = 0\n",
    "    y = 0\n",
    "    for i in range(n):\n",
    "        dx, dy = normalised_steps()\n",
    "        x += dx\n",
    "        y += dy\n",
    "        yield x,y\n",
    "    return\n",
    "\n",
    "def plotting_stats(values, trialno):\n",
    "    x = []\n",
    "    y = []\n",
    "    deltax=[]\n",
    "    deltay=[]\n",
    "    for i in range(0, len(values)):\n",
    "        x.append(values[i][0])\n",
    "        y.append(values[i][1])\n",
    "    # output delta_x**2 and delta_y**2 for calculation of R over N trials\n",
    "    for i in range(1, len(x)):\n",
    "        deltax.append(x[i]-x[i-1])\n",
    "        deltay.append(y[i]-y[i-1])\n",
    "    delta_x=sum(deltax)\n",
    "    delta_y=sum(deltay)\n",
    "    R_sq=(delta_x**2+delta_y**2)\n",
    "    return R_sq\n",
    "\n",
    "R_rms=[]\n",
    "trials_list=[]\n",
    "\n",
    "for steps in range(1,200):\n",
    "    trials=int(steps)\n",
    "    trials_list.append(trials)\n",
    "    R_sq_list=[]\n",
    "\n",
    "    for i in range(0,trials):\n",
    "        walker = list(walk(steps))\n",
    "        R_sq=plotting_stats(walker, trials)\n",
    "        R_sq_list.append(R_sq)\n",
    "    \n",
    "    R_rms.append(np.sqrt(sum(R_sq_list)/trials))"
   ]
  },
  {
   "cell_type": "code",
   "execution_count": 96,
   "metadata": {},
   "outputs": [
    {
     "data": {
      "text/plain": [
       "Text(0, 0.5, 'R')"
      ]
     },
     "execution_count": 96,
     "metadata": {},
     "output_type": "execute_result"
    },
    {
     "data": {
      "image/png": "[encoded data removed]",
      "text/plain": [
       "<Figure size 432x288 with 1 Axes>"
      ]
     },
     "metadata": {
      "needs_background": "light"
     },
     "output_type": "display_data"
    }
   ],
   "source": [
    "for i in range(0, len(trials_list)):\n",
    "    trials_list[i]=np.sqrt(trials_list[i])\n",
    "    \n",
    "plt.plot(trials_list,R_rms)\n",
    "plt.xlabel('sqrt(N)')\n",
    "plt.ylabel('R')"
   ]
  },
  {
   "cell_type": "code",
   "execution_count": null,
   "metadata": {},
   "outputs": [],
   "source": []
  }
 ],
 "metadata": {
  "kernelspec": {
   "display_name": "Python 3",
   "language": "python",
   "name": "python3"
  },
  "language_info": {
   "codemirror_mode": {
    "name": "ipython",
    "version": 3
   },
   "file_extension": ".py",
   "mimetype": "text/x-python",
   "name": "python",
   "nbconvert_exporter": "python",
   "pygments_lexer": "ipython3",
   "version": "3.8.3"
  }
 },
 "nbformat": 4,
 "nbformat_minor": 4
}
