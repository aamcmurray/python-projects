{
 "cells": [
  {
   "cell_type": "code",
   "execution_count": 5,
   "metadata": {},
   "outputs": [],
   "source": [
    "import math\n",
    "import random\n",
    "import numpy as np\n",
    "from scipy.optimize import curve_fit\n",
    "import matplotlib.pyplot as plt\n",
    "\n",
    "# Simple Monte Carlo integration to integrate ln(x)/x between 2.5 and 10.\n",
    "\n",
    "def function(x,constant):\n",
    "    return constant*(np.log(x)/x)\n",
    "\n",
    "def SMC_integrate(iterations, lower_x, upper_x,lower_y, upper_y,constant):\n",
    "    count = 0.0\n",
    "    in_area = 0.0\n",
    "    while count <iterations :\n",
    "        x = random.uniform(lower_x, upper_x)\n",
    "        y = random.uniform(lower_y, upper_y)\n",
    "        if y < function(x,constant):\n",
    "            in_area += 1\n",
    "        count += 1\n",
    "    area_box = (upper_x-lower_x)*(upper_y-lower_y) \n",
    "    answer=(in_area/count)*area_box\n",
    "    error=1/(np.sqrt(iterations))\n",
    "    return answer, error\n",
    "\n",
    "def rect(x,y,w,h,c):\n",
    "    ax = plt.gca()\n",
    "    polygon = plt.Rectangle((x,y),w,h,color=c)\n",
    "    ax.add_patch(polygon)\n",
    "\n",
    "def color_fill(X,Y,inputcolor):\n",
    "    plt.plot(X,Y,lw=0)  # Plot so the axes scale correctly\n",
    "    dx = X[1]-X[0]\n",
    "    N  = float(X.size)\n",
    "    for n, (x,y) in enumerate(zip(X,Y)):\n",
    "        color = inputcolor \n",
    "        rect(x,0,dx,y,color)\n",
    "\n",
    "def curve_fitter(constant,definite_integral,error,l_x,u_x):\n",
    "    x_generated=np.linspace(1,20,1000)\n",
    "    y_generated=function(x_generated,constant)\n",
    "    parameters, covariance=curve_fit(\n",
    "        f=function, \n",
    "        xdata=x_generated, \n",
    "        ydata=y_generated, \n",
    "        p0=[1],  \n",
    "        bounds=(-np.inf, np.inf))\n",
    "    std = np.sqrt(np.diag(covariance))\n",
    "    res = y_generated - function(x_generated, *parameters)\n",
    "    plt.plot(\n",
    "        x_generated, \n",
    "        function(\n",
    "            x_generated, \n",
    "            *parameters), \n",
    "        linestyle='-', \n",
    "        linewidth=2, \n",
    "        color='#f2a154')\n",
    "    color_fill(x_generated,y_generated,'#f7f6e7')\n",
    "    x_area=np.linspace(l_x,u_x,1000)\n",
    "    y_area=function(x_area,constant)\n",
    "    color_fill(x_area,y_area,'#e7e6e1')\n",
    "    plt.vlines(\n",
    "        x = 2.5, \n",
    "        ymin = 0, \n",
    "        ymax = y_area[0], \n",
    "        colors = '#314e52', \n",
    "        label = 'vline_multiple - full height') \n",
    "    plt.vlines(\n",
    "        x = 10, \n",
    "        ymin = 0, \n",
    "        ymax = y_area[-1], \n",
    "        colors = '#314e52', \n",
    "        label = 'vline_multiple - full height') \n",
    "    plt.title('f(x)=ln(x)/x')\n",
    "    plt.xlabel('x')\n",
    "    plt.ylabel('f(x)')\n",
    "    plt.text(7.5,0.30,'Area of shaded region: {} +/- {}'.format(round(definite_integral,3),round(error,3)))\n",
    "    plt.show()\n",
    "    return parameters,covariance\n",
    "\n",
    "def main():\n",
    "    constant=1\n",
    "    it=100000\n",
    "    l_x = 2.5\n",
    "    u_x = 10\n",
    "    l_y = 0\n",
    "    u_y = 1/math.e\n",
    "    definite_integral,error=SMC_integrate(it,l_x,u_x,l_y,u_y,constant)\n",
    "    parameters,covariance=curve_fitter(constant,definite_integral,error,l_x,u_x)"
   ]
  },
  {
   "cell_type": "code",
   "execution_count": 6,
   "metadata": {},
   "outputs": [
    {
     "data": {
      "image/png": "[encoded data removed]",
      "text/plain": [
       "<Figure size 432x288 with 1 Axes>"
      ]
     },
     "metadata": {
      "needs_background": "light"
     },
     "output_type": "display_data"
    }
   ],
   "source": [
    "main()"
   ]
  },
  {
   "cell_type": "code",
   "execution_count": null,
   "metadata": {},
   "outputs": [],
   "source": []
  }
 ],
 "metadata": {
  "kernelspec": {
   "display_name": "Python 3",
   "language": "python",
   "name": "python3"
  },
  "language_info": {
   "codemirror_mode": {
    "name": "ipython",
    "version": 3
   },
   "file_extension": ".py",
   "mimetype": "text/x-python",
   "name": "python",
   "nbconvert_exporter": "python",
   "pygments_lexer": "ipython3",
   "version": "3.8.3"
  }
 },
 "nbformat": 4,
 "nbformat_minor": 4
}
