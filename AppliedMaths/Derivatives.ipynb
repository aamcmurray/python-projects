{
 "cells": [
  {
   "cell_type": "markdown",
   "metadata": {},
   "source": [
    "# Derivatives"
   ]
  },
  {
   "cell_type": "markdown",
   "metadata": {},
   "source": [
    "## Finite Differences"
   ]
  },
  {
   "cell_type": "markdown",
   "metadata": {},
   "source": [
    "First derivative is defined using limits as:\n",
    "\n",
    "$ f'(x)=\\frac{df(x)}{dx}=lim_{\\Delta x -> 0}\\frac{\\Delta f(x)}{\\Delta x} $\n",
    "\n",
    "Numerically $\\Delta x$ cannot be infinitesimal, so it should be finite and the solution becomes approximate:\n",
    "    \n",
    "$f'(x)~= \\frac{f(x+\\Delta x)-f(x)}{\\Delta x}$"
   ]
  },
  {
   "cell_type": "markdown",
   "metadata": {},
   "source": [
    "Using $x = x_i$, $x \\Delta x = x_{i+1}$ and $\\Delta x = h$, gives:\n",
    "\n",
    "$f'(x)~=\\frac{f(x_{i+1})-f(x_i)}{h}$"
   ]
  },
  {
   "cell_type": "markdown",
   "metadata": {},
   "source": [
    "As $x_{i+1}$ gets closer to $x_{i}$ we get an accurate solution at a point. The closer it gets the more accurate the approximate solution. "
   ]
  },
  {
   "cell_type": "markdown",
   "metadata": {},
   "source": [
    "Letting $x=x_{i+1}$, $a=x_{i}$,$x-a=x_{i+1}-x_{i}=h$ and using the Taylor series expansion gives:\n",
    "    \n",
    "$f'(x_i)=\\frac{f(x_{i+1})-f(x_i)}{h}+O(h)$,\n",
    "\n",
    "the formula of forward finite differences formula plus an estimated error of order of magnitude h.\n",
    "\n",
    "The derivation for backward finite differences is similar. Using, $x=x_{i-1}$, $a=x_i$ and $x-a=x_{i-1}-x_i=h$ and the Taylor expansion gives:\n",
    "\n",
    "$f'(x_i)=\\frac{f(x_{i})-f(x_{i-1})}{h}+O(h)$.\n",
    "\n",
    "For the central finite differences the backward taylor series expansion is subtracted from the forward:\n",
    "\n",
    "$f'(x_i)=\\frac{f(x_{i+1})-f(x_{i-1})}{2h}-\\frac{f'''(x_i)}{3!}h^2-...$\n",
    "\n",
    "$f'(x_i)=\\frac{f(x_{i+1})-f(x_{i-1})}{2h}+O(h^2)$.\n",
    "\n",
    "Note the order of the error is less! \n",
    "    "
   ]
  },
  {
   "cell_type": "markdown",
   "metadata": {},
   "source": [
    "# Higher Derivatives - Finite Forward Differences O(h)\n",
    "\n",
    "$f'(x_i)=\\frac{f(x_{i+1})-f(x)}{h}$\n",
    "\n",
    "$f''(x)=\\frac{f(x_{i+2})-2f(x_{i+1})+f(x_i)}{h^2}$\n",
    "\n",
    "$f'''(x)=\\frac{f(x_{i+3})-3f(x_{i+2})+3f(x_{i+1})-f(x_i)}{h^3}$\n",
    "\n",
    "$f''''(x)=\\frac{f(x_{i+4})-4f(x_{i+3})+6f(x_{i+2})-4f(x_{i+1})+f(x_i)}{h^4}$"
   ]
  },
  {
   "cell_type": "markdown",
   "metadata": {},
   "source": [
    "# Higher Derivatives - Backward Forward Differences O(h)\n",
    "\n",
    "$ f'(x_i)=\\frac{f(x_{i})-f(x_{i-1})}{h} $\n",
    "\n",
    "$ f''(x)=\\frac{f(x_{i})-2f(x_{i-1})+f(x_{i-2})}{h^2} $\n",
    "\n",
    "$ f'''(x)=\\frac{f(x_{i})-3f(x_{i_1})+3f(x_{i-2})-f(x_{i-3})}{h^3} $\n",
    "\n",
    "$ f''''(x)=\\frac{f(x_{i})-4f(x_{i-1})+6f(x_{i-2})-4f(x_{i-3})+f(x_{i-4})}{h^4} $"
   ]
  },
  {
   "cell_type": "markdown",
   "metadata": {},
   "source": [
    "# Higher Derivatives - Central finite Differences O(h^2)\n",
    "\n",
    "Note differences are mirrored about the centre. \n",
    "\n",
    "$ f'(x_i)=\\frac{f(x_{i+1})-f(x_{i-1})}{2h} $\n",
    "\n",
    "$ f''(x)=\\frac{f(x_{i+1})-2f(x_{i})+f(x_{i-1})}{h^2} $\n",
    "\n",
    "$ f'''(x)=\\frac{f(x_{i+2})-2f(x_{i+1})+2f(x_{i-1})-f(x_{i-2})}{2h^3} $\n",
    "\n",
    "$ f''''(x)=\\frac{f(x_{i+2})-4f(x_{i+1})+6f(x_{i})-4f(x_{i-1})+f(x_{i-2})}{h^4} $"
   ]
  },
  {
   "cell_type": "markdown",
   "metadata": {},
   "source": [
    "# Example"
   ]
  },
  {
   "cell_type": "markdown",
   "metadata": {},
   "source": [
    "Find first and second derivatives of the polynomial at x=0.1:\n",
    "\n",
    "$f(x)=0.1x^5-0.2x^3+0.1x-0.2$"
   ]
  },
  {
   "cell_type": "code",
   "execution_count": 58,
   "metadata": {},
   "outputs": [],
   "source": [
    "import numpy as np\n",
    "\n",
    "f= lambda x: 0.1*x**5-0.2*x**3+0.1*x-0.2\n",
    "# define the value of x where we want to calculate the differences\n",
    "x=0.1\n",
    "# define step size h\n",
    "h=0.1\n",
    "# define analytical values for comparison\n",
    "df_sol=np.zeros(2)\n",
    "df_sol[0]=0.09405\n",
    "df_sol[1]=-0.118\n",
    "\n",
    "#finite forward differences first and second derivatives\n",
    "def fin_forward_diff_deriv(function,a,b):\n",
    "    dff1=(function(a+b)-function(a))/b\n",
    "    dff2=(function(a+2*b)-2*function(a+b)+f(a))/b**2\n",
    "    return dff1, dff2\n",
    "# as above with backward\n",
    "def fin_back_diff_deriv(function,a,b):\n",
    "    dff1=(function(a)-function(a-b))/b\n",
    "    dff2=(function(a)-2*function(a-b)+f(a-2*b))/b**2\n",
    "    return dff1, dff2\n",
    "# as above with central\n",
    "def fin_cent_diff_deriv(function,a,b):\n",
    "    dff1=(function(a+b)-function(a-b))/(2*b)\n",
    "    dff2=(function(a+b)-2*function(a)+f(a-b))/b**2\n",
    "    return dff1, dff2"
   ]
  },
  {
   "cell_type": "code",
   "execution_count": 59,
   "metadata": {},
   "outputs": [
    {
     "name": "stdout",
     "output_type": "stream",
     "text": [
      "(0.08631, -0.22199999999999992) [0.00774 0.104  ]\n"
     ]
    }
   ],
   "source": [
    "forward=fin_forward_diff_deriv(f,x,h)\n",
    "forward_error=df_sol-fin_forward_diff_deriv(f,x,h)\n",
    "print(forward, forward_error)"
   ]
  },
  {
   "cell_type": "code",
   "execution_count": 60,
   "metadata": {},
   "outputs": [
    {
     "name": "stdout",
     "output_type": "stream",
     "text": [
      "(0.09801000000000004, 0.0) [-0.00396 -0.118  ]\n"
     ]
    }
   ],
   "source": [
    "back=fin_back_diff_deriv(f,x,h)\n",
    "back_error=df_sol-fin_back_diff_deriv(f,x,h)\n",
    "print(back, back_error)"
   ]
  },
  {
   "cell_type": "code",
   "execution_count": 61,
   "metadata": {},
   "outputs": [
    {
     "name": "stdout",
     "output_type": "stream",
     "text": [
      "(0.09216000000000002, -0.11700000000000041) [ 0.00189 -0.001  ]\n"
     ]
    }
   ],
   "source": [
    "cent=fin_cent_diff_deriv(f,x,h)\n",
    "cent_error=df_sol-fin_cent_diff_deriv(f,x,h)\n",
    "print(cent, cent_error)"
   ]
  },
  {
   "cell_type": "markdown",
   "metadata": {},
   "source": [
    "Find the first and second derivatives of the following function in the domain [-1,1] using central finite differences then plot the graphs. Let h=0.01.\n",
    "\n",
    "$f(x)=0.1x^5-0.2x^3+0.1x-0.2$"
   ]
  },
  {
   "cell_type": "code",
   "execution_count": 79,
   "metadata": {},
   "outputs": [
    {
     "data": {
      "image/png": "[encoded data removed]",
      "text/plain": [
       "<Figure size 432x288 with 1 Axes>"
      ]
     },
     "metadata": {
      "needs_background": "light"
     },
     "output_type": "display_data"
    }
   ],
   "source": [
    "import numpy as np\n",
    "import matplotlib.pyplot as plt\n",
    "\n",
    "f=lambda x: 0.1*x**5-0.2*x**3+0.1*x-0.2\n",
    "h=0.01\n",
    "x=np.linspace(-1,1) # default number of steps is 50 in a linsapce\n",
    "\n",
    "fin_cent_diff_deriv(f,x,h)\n",
    "\n",
    "plt.plot(x,f(x),'-k', label='f(x)')\n",
    "plt.plot(x, fin_cent_diff_deriv(f,x,h)[0], '--b', label=\"f'(x)\")\n",
    "plt.plot(x, fin_cent_diff_deriv(f,x,h)[1], '-.r', label=\"f''(x)\")\n",
    "plt.legend()\n",
    "plt.grid()"
   ]
  },
  {
   "cell_type": "code",
   "execution_count": null,
   "metadata": {},
   "outputs": [],
   "source": []
  }
 ],
 "metadata": {
  "kernelspec": {
   "display_name": "Python 3",
   "language": "python",
   "name": "python3"
  },
  "language_info": {
   "codemirror_mode": {
    "name": "ipython",
    "version": 3
   },
   "file_extension": ".py",
   "mimetype": "text/x-python",
   "name": "python",
   "nbconvert_exporter": "python",
   "pygments_lexer": "ipython3",
   "version": "3.8.3"
  }
 },
 "nbformat": 4,
 "nbformat_minor": 4
}
